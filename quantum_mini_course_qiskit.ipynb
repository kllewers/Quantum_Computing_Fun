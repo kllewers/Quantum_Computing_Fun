{
 "cells": [
  {
   "cell_type": "markdown",
   "id": "c07f215e",
   "metadata": {},
   "source": [
    "\n",
    "# Quantum Computing Mini‑Course (Qiskit, Hands‑On)\n",
    "\n",
    "Welcome! This notebook is a guided, **learn-by-doing** introduction to quantum mechanics concepts as they appear in **quantum computing**.\n",
    "\n",
    "Each lesson has:\n",
    "- *Concept* – short, plain‑language explanation  \n",
    "- *Principle* – minimal math intuition  \n",
    "- *Code* – runnable Qiskit cells  \n",
    "- *Exercises* – things for you to tweak\n",
    "\n",
    "> **Tip:** Run cells in order. If you haven't installed Qiskit yet, run the next cell first.\n"
   ]
  },
  {
   "cell_type": "code",
   "execution_count": null,
   "id": "258121cd",
   "metadata": {},
   "outputs": [],
   "source": [
    "# (Optional) Install or update the required packages\n",
    "# If you're running locally and haven't installed these yet, uncomment and run:\n",
    "# !pip install -U \"qiskit>=1.0\" \"qiskit-aer>=0.15\" \"qiskit-ibm-runtime>=0.25\"\n"
   ]
  },
  {
   "cell_type": "code",
   "execution_count": 1,
   "id": "d73e43b5",
   "metadata": {},
   "outputs": [
    {
     "name": "stdout",
     "output_type": "stream",
     "text": [
      "Imports ready. If no errors appeared, you're good to go!\n"
     ]
    }
   ],
   "source": [
    "# Core imports (Qiskit 1.x compatible API)\n",
    "from qiskit import QuantumCircuit, transpile\n",
    "from qiskit_aer import AerSimulator\n",
    "from qiskit.visualization import plot_histogram, plot_bloch_multivector\n",
    "from qiskit.quantum_info import Statevector\n",
    "import matplotlib.pyplot as plt\n",
    "\n",
    "# We'll use a single shot-based simulator for measurement experiments\n",
    "qasm_sim = AerSimulator()\n",
    "\n",
    "# Make plots a bit larger\n",
    "plt.rcParams[\"figure.figsize\"] = (6, 4)\n",
    "print(\"Imports ready. If no errors appeared, you're good to go!\")"
   ]
  },
  {
   "cell_type": "markdown",
   "id": "a25d01d3",
   "metadata": {},
   "source": [
    "\n",
    "---\n",
    "## Lesson 1 — Superposition\n",
    "\n",
    "📖 **Concept**  \n",
    "A qubit can be in |0⟩, |1⟩, or any mix of the two. The Hadamard gate (H) puts a qubit into equal superposition.\n",
    "\n",
    "🧮 **Principle**  \n",
    "\\[ H|0\\rangle = \\tfrac{|0\\rangle + |1\\rangle}{\\sqrt{2}} \\]\n"
   ]
  },
  {
   "cell_type": "code",
   "execution_count": 2,
   "id": "34b1aeb2",
   "metadata": {},
   "outputs": [
    {
     "name": "stdout",
     "output_type": "stream",
     "text": [
      "Statevector: [0.70710678+0.j 0.70710678+0.j]\n"
     ]
    }
   ],
   "source": [
    "# Hadamard on |0>, observe the statevector and Bloch sphere\n",
    "qc = QuantumCircuit(1)\n",
    "qc.h(0)\n",
    "\n",
    "psi = Statevector.from_instruction(qc)\n",
    "print(\"Statevector:\", psi.data)\n",
    "\n",
    "plot_bloch_multivector(psi)\n",
    "plt.show()"
   ]
  },
  {
   "cell_type": "markdown",
   "id": "374f3e08",
   "metadata": {},
   "source": [
    "\n",
    "🎯 **Exercises**\n",
    "- Replace `qc.h(0)` with `qc.x(0)`. Where does the state move on the Bloch sphere?\n",
    "- Try `qc.h(0); qc.x(0)` or `qc.rx(theta, 0)` with different angles.\n"
   ]
  },
  {
   "cell_type": "markdown",
   "id": "410dfeba",
   "metadata": {},
   "source": [
    "\n",
    "---\n",
    "## Lesson 2 — Measurement\n",
    "\n",
    "📖 **Concept**  \n",
    "Measurement collapses the state to a definite 0 or 1. Superpositions show up as **probabilities**.\n",
    "\n",
    "🧮 **Principle**  \n",
    "Measuring \\( \\tfrac{|0\\rangle + |1\\rangle}{\\sqrt{2}} \\) yields ~50% 0 and ~50% 1.\n"
   ]
  },
  {
   "cell_type": "code",
   "execution_count": 3,
   "id": "c7ee12d1",
   "metadata": {},
   "outputs": [
    {
     "name": "stdout",
     "output_type": "stream",
     "text": [
      "Counts: {'1': 1047, '0': 953}\n"
     ]
    }
   ],
   "source": [
    "# Create a superposition and measure many times (shots)\n",
    "qc = QuantumCircuit(1, 1)\n",
    "qc.h(0)\n",
    "qc.measure(0, 0)\n",
    "\n",
    "compiled = transpile(qc, qasm_sim)\n",
    "result = qasm_sim.run(compiled, shots=2000).result()\n",
    "counts = result.get_counts()\n",
    "\n",
    "print(\"Counts:\", counts)\n",
    "plot_histogram(counts)\n",
    "plt.show()"
   ]
  },
  {
   "cell_type": "markdown",
   "id": "c5ad866c",
   "metadata": {},
   "source": [
    "\n",
    "🎯 **Exercises**\n",
    "- Increase `shots` (e.g., 10_000). Do the frequencies get closer to 50/50?\n",
    "- Replace `qc.h(0)` with `qc.x(0)`. What histogram do you get and why?\n"
   ]
  },
  {
   "cell_type": "markdown",
   "id": "e82d67e8",
   "metadata": {},
   "source": [
    "\n",
    "---\n",
    "## Lesson 3 — Entanglement\n",
    "\n",
    "📖 **Concept**  \n",
    "Two qubits can be correlated beyond classical limits. In the Bell state, measuring one tells you the other instantly.\n",
    "\n",
    "🧮 **Principle**  \n",
    "\\[ |\\Phi^+\\rangle = \\tfrac{|00\\rangle + |11\\rangle}{\\sqrt{2}} \\]\n"
   ]
  },
  {
   "cell_type": "code",
   "execution_count": 4,
   "id": "4730516c",
   "metadata": {},
   "outputs": [
    {
     "name": "stdout",
     "output_type": "stream",
     "text": [
      "Counts: {'00': 2002, '11': 1998}\n"
     ]
    }
   ],
   "source": [
    "# Create a Bell state and measure both qubits\n",
    "qc = QuantumCircuit(2, 2)\n",
    "qc.h(0)\n",
    "qc.cx(0, 1)\n",
    "qc.measure([0, 1], [0, 1])\n",
    "\n",
    "compiled = transpile(qc, qasm_sim)\n",
    "result = qasm_sim.run(compiled, shots=4000).result()\n",
    "counts = result.get_counts()\n",
    "\n",
    "print(\"Counts:\", counts)\n",
    "plot_histogram(counts)\n",
    "plt.show()"
   ]
  },
  {
   "cell_type": "markdown",
   "id": "359a34c7",
   "metadata": {},
   "source": [
    "\n",
    "🎯 **Exercises**\n",
    "- Do you see only `00` and `11`? (Small noise on real hardware may add others.)\n",
    "- Add `qc.h(1)` after `qc.cx(0, 1)`. What changes?\n",
    "- Try `qc.z(0)` before `qc.cx(0, 1)`. How does a phase affect outcomes?\n"
   ]
  },
  {
   "cell_type": "markdown",
   "id": "7476a367",
   "metadata": {},
   "source": [
    "\n",
    "---\n",
    "## Lesson 4 — Interference\n",
    "\n",
    "📖 **Concept**  \n",
    "Quantum states act like waves: phases can add (constructive) or cancel (destructive).\n",
    "\n",
    "🧮 **Principle**  \n",
    "Two Hadamards undo each other: \\( H(H|0\\rangle) = |0\\rangle \\).\n"
   ]
  },
  {
   "cell_type": "code",
   "execution_count": null,
   "id": "35e288cd",
   "metadata": {},
   "outputs": [],
   "source": [
    "# Interference: H; H; measure -> always 0\n",
    "qc = QuantumCircuit(1, 1)\n",
    "qc.h(0)\n",
    "qc.h(0)\n",
    "qc.measure(0, 0)\n",
    "\n",
    "compiled = transpile(qc, qasm_sim)\n",
    "result = qasm_sim.run(compiled, shots=2000).result()\n",
    "counts = result.get_counts()\n",
    "\n",
    "print(\"Counts:\", counts)\n",
    "plot_histogram(counts)\n",
    "plt.show()"
   ]
  },
  {
   "cell_type": "markdown",
   "id": "5174f01c",
   "metadata": {},
   "source": [
    "\n",
    "🎯 **Exercise**\n",
    "- Insert a phase between the Hadamards: `qc = QuantumCircuit(1,1); qc.h(0); qc.z(0); qc.h(0); ...`\n",
    "- Predict the histogram before you run it.\n"
   ]
  },
  {
   "cell_type": "markdown",
   "id": "de58bc04",
   "metadata": {},
   "source": [
    "\n",
    "---\n",
    "## Lesson 5 — First Algorithm: Deutsch–Jozsa (Lite)\n",
    "\n",
    "📖 **Concept**  \n",
    "Deutsch–Jozsa distinguishes between a *constant* vs. *balanced* oracle in a **single** evaluation by using interference.\n",
    "\n",
    "For a 1‑qubit \"toy\" oracle:\n",
    "- Constant oracle ≈ Identity (I)  → outputs 0\n",
    "- Balanced oracle ≈ Phase flip (Z) → outputs 1\n"
   ]
  },
  {
   "cell_type": "code",
   "execution_count": null,
   "id": "e4be8ac7",
   "metadata": {},
   "outputs": [],
   "source": [
    "# \"Toy\" Deutsch–Jozsa: single-qubit version for intuition\n",
    "def deutsch_jozsa_lite(use_balanced_oracle: bool = True, shots: int = 1000):\n",
    "    qc = QuantumCircuit(1, 1)\n",
    "    qc.h(0)                 # prepare superposition\n",
    "    \n",
    "    if use_balanced_oracle:\n",
    "        qc.z(0)             # balanced oracle (phase flip)\n",
    "    else:\n",
    "        qc.i(0)             # constant oracle (does nothing)\n",
    "    \n",
    "    qc.h(0)\n",
    "    qc.measure(0, 0)\n",
    "    \n",
    "    compiled = transpile(qc, qasm_sim)\n",
    "    result = qasm_sim.run(compiled, shots=shots).result()\n",
    "    return result.get_counts()\n",
    "\n",
    "print(\"Balanced oracle (expect '1'):\", deutsch_jozsa_lite(True))\n",
    "print(\"Constant oracle (expect '0'):\", deutsch_jozsa_lite(False))"
   ]
  },
  {
   "cell_type": "markdown",
   "id": "63bb2cfe",
   "metadata": {},
   "source": [
    "\n",
    "🎯 **Exercises**\n",
    "- Vary `shots` and confirm the dominant outcome remains the same.\n",
    "- Replace `qc.z(0)` with `qc.rx(theta, 0)` for various `theta`. When does it look \"balanced\"?\n"
   ]
  },
  {
   "cell_type": "markdown",
   "id": "bf4a002a",
   "metadata": {},
   "source": [
    "\n",
    "---\n",
    "## 🚀 Bonus — Try a Real Quantum Device (IBM)\n",
    "\n",
    "1. Create a free IBM Quantum account and save your token:\n",
    "   - Visit https://quantum-computing.ibm.com/\n",
    "   - Follow instructions to store your account credentials.\n",
    "\n",
    "2. Replace the simulator with a real backend:\n"
   ]
  },
  {
   "cell_type": "code",
   "execution_count": null,
   "id": "6f275ded",
   "metadata": {},
   "outputs": [],
   "source": [
    "# Example sketch for real hardware (commented out to avoid errors if not configured).\n",
    "# from qiskit_ibm_runtime import QiskitRuntimeService\n",
    "#\n",
    "# service = QiskitRuntimeService()  # assumes you configured your IBM credentials\n",
    "# backend = service.least_busy(filters=lambda b: not b.simulator and b.num_qubits >= 2)\n",
    "#\n",
    "# # Reuse a circuit from above, e.g., the Bell state:\n",
    "# qc = QuantumCircuit(2, 2)\n",
    "# qc.h(0)\n",
    "# qc.cx(0, 1)\n",
    "# qc.measure([0, 1], [0, 1])\n",
    "#\n",
    "# compiled = transpile(qc, backend)\n",
    "# job = backend.run(compiled, shots=4000)\n",
    "# result = job.result()\n",
    "# print(result.get_counts())"
   ]
  },
  {
   "cell_type": "markdown",
   "id": "0cf67947",
   "metadata": {},
   "source": [
    "\n",
    "---\n",
    "\n",
    "### Where to go next\n",
    "- Implement **Grover's search** for 2 qubits (mark one state with a phase oracle).\n",
    "- Implement **Quantum teleportation** to deepen your understanding of entanglement.\n",
    "- Explore **noise** by adding error models in `qiskit-aer` or by comparing simulator vs. hardware results.\n",
    "\n",
    "Happy hacking ✨\n"
   ]
  }
 ],
 "metadata": {
  "kernelspec": {
   "display_name": "capella_env",
   "language": "python",
   "name": "python3"
  },
  "language_info": {
   "codemirror_mode": {
    "name": "ipython",
    "version": 3
   },
   "file_extension": ".py",
   "mimetype": "text/x-python",
   "name": "python",
   "nbconvert_exporter": "python",
   "pygments_lexer": "ipython3",
   "version": "3.11.9"
  }
 },
 "nbformat": 4,
 "nbformat_minor": 5
}
